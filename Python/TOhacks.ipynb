{
 "cells": [
  {
   "cell_type": "code",
   "execution_count": 2,
   "metadata": {},
   "outputs": [],
   "source": [
    "# Importing dependencies from transformers\n",
    "from transformers import PegasusForConditionalGeneration\n",
    "from transformers import PegasusTokenizer\n"
   ]
  },
  {
   "cell_type": "code",
   "execution_count": 3,
   "metadata": {},
   "outputs": [
    {
     "data": {
      "application/vnd.jupyter.widget-view+json": {
       "model_id": "28afaef1fa184e6e95d4c9c6c109bd0e",
       "version_major": 2,
       "version_minor": 0
      },
      "text/plain": [
       "Downloading:   0%|          | 0.00/1.82M [00:00<?, ?B/s]"
      ]
     },
     "metadata": {},
     "output_type": "display_data"
    },
    {
     "data": {
      "application/vnd.jupyter.widget-view+json": {
       "model_id": "b4cc6fee5fa34d5798858d003db746db",
       "version_major": 2,
       "version_minor": 0
      },
      "text/plain": [
       "Downloading:   0%|          | 0.00/65.0 [00:00<?, ?B/s]"
      ]
     },
     "metadata": {},
     "output_type": "display_data"
    },
    {
     "data": {
      "application/vnd.jupyter.widget-view+json": {
       "model_id": "e1532827759b4dea984bb03837b015f2",
       "version_major": 2,
       "version_minor": 0
      },
      "text/plain": [
       "Downloading:   0%|          | 0.00/87.0 [00:00<?, ?B/s]"
      ]
     },
     "metadata": {},
     "output_type": "display_data"
    }
   ],
   "source": [
    "tokenizer = PegasusTokenizer.from_pretrained(\"google/pegasus-xsum\")\n"
   ]
  },
  {
   "cell_type": "code",
   "execution_count": 4,
   "metadata": {},
   "outputs": [],
   "source": [
    "#Load Model\n",
    "model = PegasusForConditionalGeneration.from_pretrained(\"google/pegasus-xsum\")"
   ]
  },
  {
   "cell_type": "code",
   "execution_count": 13,
   "metadata": {},
   "outputs": [],
   "source": [
    "text = \"\"\"\n",
    "The treatment landscape of acute myeloid leukemia (AML) is evolving, with promising therapies entering clinical translation, yet patient responses remain heterogeneous, and biomarkers for tailoring treatment are lacking. To understand how disease heterogeneity links with therapy response, we determined the leukemia cell hierarchy makeup from bulk transcriptomes of more than 1,000 patients through deconvolution using single-cell reference profiles of leukemia stem, progenitor and mature cell types. Leukemia hierarchy composition was associated with functional, genomic and clinical properties and converged into four overall classes, spanning Primitive, Mature, GMP and Intermediate. Critically, variation in hierarchy composition along the Primitive versus GMP or Primitive versus Mature axes were associated with response to chemotherapy or drug sensitivity profiles of targeted therapies, respectively. A seven-gene biomarker derived from the Primitive versus Mature axis was associated with response to 105 investigational drugs. Cellular hierarchy composition constitutes a novel framework for understanding disease biology and advancing precision medicine in AML.\n",
    "\"\"\"\n"
   ]
  },
  {
   "cell_type": "code",
   "execution_count": 14,
   "metadata": {},
   "outputs": [],
   "source": [
    "# Create tokens - number representation of our text\n",
    "tokens = tokenizer(text, truncation = True, padding='longest', return_tensors='pt')"
   ]
  },
  {
   "cell_type": "code",
   "execution_count": 15,
   "metadata": {},
   "outputs": [
    {
     "data": {
      "text/plain": [
       "{'input_ids': tensor([[  139,   791,  2646,   113,  9000, 85705, 35038,   143, 62142,   158,\n",
       "           117,  8614,   108,   122,  7367, 10648,  4219,  2827,  5256,   108,\n",
       "           610,  1532,  4267,  1686, 36024,   108,   111, 41382,   118, 29655,\n",
       "           791,   127,  9821,   107,   413,   630,   199,  1568, 66263,  1784,\n",
       "           122,  2495,  1407,   108,   145,  3035,   109, 35038,  2201, 18897,\n",
       "          4823,   135,  5494, 18082, 16913,   116,   113,   154,   197,  6155,\n",
       "          1044,   224,   718,  5409, 78806,   303,   612,   121, 12052,  2334,\n",
       "          5771,   113, 35038,  6582,   108, 68629,   111,  6444,  2201,  1020,\n",
       "           107, 69350, 18897,  5349,   140,  1589,   122,  3819,   108, 35155,\n",
       "           111,  2827,  1746,   111, 55182,   190,   541,  1380,  1745,   108,\n",
       "         14812, 58310,   108, 54186,   108, 41523,   111, 21727,   107, 14964,\n",
       "           445,   108,  7951,   115, 18897,  5349,   466,   109, 58310,  6075,\n",
       "         41523,   132, 58310,  6075, 54186, 31260,   195,  1589,   122,  1407,\n",
       "           112, 16020,   132,  2108,  8275,  5771,   113,  4635, 10648,   108,\n",
       "          4802,   107,   202,  1761,   121, 27665, 58631,  7327,   135,   109,\n",
       "         58310,  6075, 54186, 14301,   140,  1589,   122,  1407,   112, 14923,\n",
       "         73965,  3239,   107, 32076, 18897,  5349, 14685,   114,  2794,  3772,\n",
       "           118,  1301,  1568,  9166,   111, 12362,  6166,  3025,   115, 54662,\n",
       "           107,     1]]), 'attention_mask': tensor([[1, 1, 1, 1, 1, 1, 1, 1, 1, 1, 1, 1, 1, 1, 1, 1, 1, 1, 1, 1, 1, 1, 1, 1,\n",
       "         1, 1, 1, 1, 1, 1, 1, 1, 1, 1, 1, 1, 1, 1, 1, 1, 1, 1, 1, 1, 1, 1, 1, 1,\n",
       "         1, 1, 1, 1, 1, 1, 1, 1, 1, 1, 1, 1, 1, 1, 1, 1, 1, 1, 1, 1, 1, 1, 1, 1,\n",
       "         1, 1, 1, 1, 1, 1, 1, 1, 1, 1, 1, 1, 1, 1, 1, 1, 1, 1, 1, 1, 1, 1, 1, 1,\n",
       "         1, 1, 1, 1, 1, 1, 1, 1, 1, 1, 1, 1, 1, 1, 1, 1, 1, 1, 1, 1, 1, 1, 1, 1,\n",
       "         1, 1, 1, 1, 1, 1, 1, 1, 1, 1, 1, 1, 1, 1, 1, 1, 1, 1, 1, 1, 1, 1, 1, 1,\n",
       "         1, 1, 1, 1, 1, 1, 1, 1, 1, 1, 1, 1, 1, 1, 1, 1, 1, 1, 1, 1, 1, 1, 1, 1,\n",
       "         1, 1, 1, 1, 1, 1, 1, 1, 1, 1, 1, 1, 1, 1]])}"
      ]
     },
     "execution_count": 15,
     "metadata": {},
     "output_type": "execute_result"
    }
   ],
   "source": [
    "#input tokens\n",
    "tokens"
   ]
  },
  {
   "cell_type": "code",
   "execution_count": 16,
   "metadata": {},
   "outputs": [],
   "source": [
    "# Sumamrize\n",
    "# **tokens are our tokens\n",
    "summary = model.generate(**tokens)"
   ]
  },
  {
   "cell_type": "code",
   "execution_count": 17,
   "metadata": {},
   "outputs": [
    {
     "data": {
      "text/plain": [
       "tensor([    0,   139,  5349,   113,   114,  1532,   131,   116,  4499, 25030,\n",
       "          256,   129,   263,   112,  1956,  1044,   205,   770,   112,  2847,\n",
       "          112,  4635, 10648,   107,     1])"
      ]
     },
     "execution_count": 17,
     "metadata": {},
     "output_type": "execute_result"
    }
   ],
   "source": [
    "#Output Summary tokens\n",
    "summary[0]"
   ]
  },
  {
   "cell_type": "code",
   "execution_count": 11,
   "metadata": {},
   "outputs": [
    {
     "data": {
      "text/plain": [
       "transformers.tokenization_utils_base.BatchEncoding"
      ]
     },
     "execution_count": 11,
     "metadata": {},
     "output_type": "execute_result"
    }
   ],
   "source": [
    "type(tokens)\n",
    "#tokens is a specific class but it is ultimately a dictionary"
   ]
  },
  {
   "cell_type": "code",
   "execution_count": 12,
   "metadata": {},
   "outputs": [
    {
     "data": {
      "text/plain": [
       "tensor([[    0, 11994,   117,   114,  3661,  1261,  1184,   141, 58937,  4406,\n",
       "          7366,  3707,   107,     1]])"
      ]
     },
     "execution_count": 12,
     "metadata": {},
     "output_type": "execute_result"
    }
   ],
   "source": [
    "summary\n",
    "#Wrapped around two sets of square brackets - nested - grab first instant of result using [0]"
   ]
  },
  {
   "cell_type": "code",
   "execution_count": 18,
   "metadata": {},
   "outputs": [
    {
     "data": {
      "text/plain": [
       "\"The composition of a patient's bone marrow could be used to identify patients most likely to respond to targeted therapies.\""
      ]
     },
     "execution_count": 18,
     "metadata": {},
     "output_type": "execute_result"
    }
   ],
   "source": [
    "#Decode summary\n",
    "tokenizer.decode(summary[0])"
   ]
  }
 ],
 "metadata": {
  "interpreter": {
   "hash": "cd59ae0353cac2af52e6138fe0aad3b3ab6e44e27c60c04b82ad0cbe464f968f"
  },
  "kernelspec": {
   "display_name": "Python 3.9.12 ('base': conda)",
   "language": "python",
   "name": "python3"
  },
  "language_info": {
   "codemirror_mode": {
    "name": "ipython",
    "version": 3
   },
   "file_extension": ".py",
   "mimetype": "text/x-python",
   "name": "python",
   "nbconvert_exporter": "python",
   "pygments_lexer": "ipython3",
   "version": "3.9.12"
  },
  "orig_nbformat": 4
 },
 "nbformat": 4,
 "nbformat_minor": 2
}
